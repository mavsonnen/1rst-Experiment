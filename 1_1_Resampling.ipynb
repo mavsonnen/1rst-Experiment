{
 "cells": [
  {
   "cell_type": "code",
   "execution_count": 1,
   "metadata": {},
   "outputs": [],
   "source": [
    "#Importe de librerias\n",
    "from osgeo import gdal\n",
    "import os"
   ]
  },
  {
   "cell_type": "code",
   "execution_count": 2,
   "metadata": {},
   "outputs": [],
   "source": [
    "# Rutas de entrada y salida\n",
    "input_path = 'C:/Users/CB-2/Desktop/mosaicar1/color/'\n",
    "output_path = 'C:/Users/CB-2/Desktop/mosaicar1/resultados/'"
   ]
  },
  {
   "cell_type": "code",
   "execution_count": null,
   "metadata": {},
   "outputs": [],
   "source": [
    "#ciclo for con palabra reservada in, para recorrer nuestra ruta de entrada, y establecer un criterio de busqueda\n",
    "bandList = [band for band in os.listdir(input_path) if band[-4:]=='.tif']\n",
    "print(bandList)"
   ]
  },
  {
   "cell_type": "code",
   "execution_count": null,
   "metadata": {},
   "outputs": [],
   "source": [
    "#implementar las funciones de la clase gdal - ogr. aqui se realiza el paso inicial para reducir las imagenes de sentinel 2 que no tengan 10 m\n",
    "for band in bandList:\n",
    "    print(output_path + band[:-4]+'_c2'+band[-4:])\n",
    "    options = gdal.WarpOptions(format = 'GTiff', xRes = 10, yRes = 10, resampleAlg = gdal.GRA_Bilinear) # Se utiliza bilinear\n",
    "    outBand = gdal.Warp(srcDSOrSrcDSTab=os.path.join(input_path + band),\n",
    "                        destNameOrDestDS=output_path + band[:-4]+'_R2'+band[-4:],\n",
    "                        options=options)"
   ]
  },
  {
   "cell_type": "code",
   "execution_count": null,
   "metadata": {},
   "outputs": [],
   "source": [
    "outBand= None   # cerrar\n",
    "\n",
    "print(\"finalizado\")"
   ]
  }
 ],
 "metadata": {
  "kernelspec": {
   "display_name": "Python 3",
   "language": "python",
   "name": "python3"
  },
  "language_info": {
   "codemirror_mode": {
    "name": "ipython",
    "version": 3
   },
   "file_extension": ".py",
   "mimetype": "text/x-python",
   "name": "python",
   "nbconvert_exporter": "python",
   "pygments_lexer": "ipython3",
   "version": "3.8.6"
  }
 },
 "nbformat": 4,
 "nbformat_minor": 4
}
