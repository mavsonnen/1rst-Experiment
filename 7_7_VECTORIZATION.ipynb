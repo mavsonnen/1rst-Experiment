{
 "cells": [
  {
   "cell_type": "markdown",
   "metadata": {},
   "source": [
    "# VECTORIZATION"
   ]
  },
  {
   "cell_type": "code",
   "execution_count": null,
   "metadata": {},
   "outputs": [],
   "source": [
    "#import libraries\n",
    "import gdal\n",
    "import ogr"
   ]
  },
  {
   "cell_type": "code",
   "execution_count": null,
   "metadata": {},
   "outputs": [],
   "source": [
    "#use the exceptions\n",
    "gdal.UseExceptions()\n",
    "#directory input. open raster to poligonize\n",
    "raster = gdal.Open(\"C:/Users/CB-2/Desktop/mosaicar1/resultados/rasteriop.tif\")\n",
    "#\n",
    "raster.RasterCount"
   ]
  },
  {
   "cell_type": "code",
   "execution_count": null,
   "metadata": {},
   "outputs": [],
   "source": [
    "#use the opcion for choose the band\n",
    "band = raster.GetRasterBand(1)\n",
    "#driver\n",
    "drv = ogr.GetDriverByName('ESRI Shapefile')\n",
    "#salida de datos y extensión\n",
    "outfile = drv.CreateDataSource('F:/prueba/yyyyyyyyyyyyyy.shp')\n",
    "#create layer, optional spatial reference\n",
    "outlayer = outfile.CreateLayer('polygonized raster', srs=None)\n",
    "#create field\n",
    "newField = ogr.FieldDefn(str(1), ogr.OFTInteger)\n",
    "outlayer.CreateField(newField)\n",
    "#enter the parameters\n",
    "gdal.Polygonize(band, None, outlayer, 0, [], callback=None)\n",
    "outfile=None\n",
    "\n",
    "print (\"finish\")"
   ]
  }
 ],
 "metadata": {
  "kernelspec": {
   "display_name": "Python 3",
   "language": "python",
   "name": "python3"
  },
  "language_info": {
   "codemirror_mode": {
    "name": "ipython",
    "version": 3
   },
   "file_extension": ".py",
   "mimetype": "text/x-python",
   "name": "python",
   "nbconvert_exporter": "python",
   "pygments_lexer": "ipython3",
   "version": "3.8.6"
  }
 },
 "nbformat": 4,
 "nbformat_minor": 4
}
